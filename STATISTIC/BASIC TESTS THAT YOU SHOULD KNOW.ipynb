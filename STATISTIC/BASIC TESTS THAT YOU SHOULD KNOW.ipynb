{
 "cells": [
  {
   "cell_type": "markdown",
   "metadata": {},
   "source": [
    "# Estatísticas Bases - são **TESTES** bases que utilizamos em quase todas inferências e análises probabililísticas, aqui vai um resumo:\n",
    "\n",
    "### Teste de Shapiro-Wilk\n",
    "\n",
    "O teste de Shapiro-Wilk verifica se uma amostra segue uma distribuição normal. A hipótese nula ($H_0$) e alternativa ($H_1$) são:\n",
    "\n",
    "- $H_0$: A amostra segue uma distribuição normal.\n",
    "- $H_1$: A amostra não segue uma distribuição normal.\n",
    "\n",
    "### Teste de Levene\n",
    "\n",
    "O teste de Levene verifica a igualdade de variâncias entre duas ou mais amostras. A hipótese nula ($H_0$) e alternativa ($H_1$) são:\n",
    "\n",
    "- $H_0$: As variâncias são iguais entre os grupos.\n",
    "- $H_1$: Pelo menos uma das variâncias é diferente.\n",
    "\n",
    "### Teste de Durbin-Watson\n",
    "\n",
    "O teste de Durbin-Watson verifica a presença de autocorrelação em séries temporais ou dados de painel. Ele avalia a hipótese nula ($H_0$) de que não há autocorrelação nos erros:\n",
    "\n",
    "- $H_0$: Não há autocorrelação nos erros.\n",
    "- $H_1$: Existe autocorrelação nos erros.\n",
    "\n",
    "### Teste de Jarque-Bera\n",
    "\n",
    "O teste de Jarque-Bera verifica se uma amostra tem a assimetria e curtose que se espera de uma distribuição normal. As hipóteses são:\n",
    "\n",
    "- $H_0$: A amostra vem de uma distribuição normal.\n",
    "- $H_1$: A amostra não vem de uma distribuição normal.\n",
    "\n",
    "### Teste de Correlação Pearson\n",
    "\n",
    "O teste de correlação de Pearson avalia a relação linear entre duas variáveis contínuas. Ele testa a hipótese nula ($H_0$) de que não há correlação linear entre as variáveis:\n",
    "\n",
    "- $H_0$: Não há correlação linear entre as variáveis.\n",
    "- $H_1$: Existe correlação linear entre as variáveis.\n",
    "\n",
    "### Teste de Correlação Spearman\n",
    "\n",
    "O teste de correlação de Spearman avalia a relação monotônica entre duas variáveis, não necessariamente lineares. Ele testa a hipótese nula ($H_0$) de que não há correlação monotônica entre as variáveis:\n",
    "\n",
    "- $H_0$: Não há correlação monotônica entre as variáveis.\n",
    "- $H_1$: Existe correlação monotônica entre as variáveis.\n"
   ]
  },
  {
   "cell_type": "code",
   "execution_count": null,
   "metadata": {},
   "outputs": [],
   "source": []
  }
 ],
 "metadata": {
  "language_info": {
   "name": "python"
  }
 },
 "nbformat": 4,
 "nbformat_minor": 2
}
