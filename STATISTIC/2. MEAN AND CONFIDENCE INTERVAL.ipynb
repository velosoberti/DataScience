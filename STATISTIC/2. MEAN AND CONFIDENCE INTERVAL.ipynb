{
 "cells": [
  {
   "cell_type": "code",
   "execution_count": 1,
   "metadata": {},
   "outputs": [],
   "source": [
    "import pandas as pd\n",
    "import numpy as np\n",
    "import scipy.stats as st\n",
    "import seaborn as sns\n",
    "import seaborn.objects as so\n",
    "import matplotlib.pyplot as plt\n",
    "import warnings\n",
    "from collections import namedtuple\n",
    "import cycler\n",
    "#plt.style.use('https://github.com/dhaitz/matplotlib-stylesheets/raw/master/pitayasmoothie-dark.mplstyle')\n",
    "warnings.filterwarnings(\"ignore\", category=UserWarning, module=\"seaborn.axisgrid\")\n",
    "warnings.filterwarnings(\"ignore\")\n"
   ]
  },
  {
   "cell_type": "code",
   "execution_count": 2,
   "metadata": {},
   "outputs": [],
   "source": [
    "penguins = sns.load_dataset(\"penguins\")\n",
    "\n",
    "mean_1 = penguins.loc[(penguins['species'] == 'Adelie')&(penguins['island'] == 'Torgersen')]['bill_length_mm'].mean()\n",
    "mean_2 = penguins.loc[(penguins['species'] == 'Adelie')&(penguins['island'] == 'Torgersen')]['bill_depth_mm'].mean()\n",
    "mean_3 = penguins.loc[(penguins['species'] == 'Adelie')&(penguins['island'] == 'Torgersen')]['flipper_length_mm'].mean()\n",
    "mean_4 = penguins.loc[(penguins['species'] == 'Adelie')&(penguins['island'] == 'Torgersen')]['body_mass_g'].mean()\n",
    "mean_5 = penguins.loc[(penguins['species'] == 'Gentoo')&(penguins['island'] == 'Biscoe')]['bill_length_mm'].mean()\n",
    "mean_6 = penguins.loc[(penguins['species'] == 'Gentoo')&(penguins['island'] == 'Biscoe')]['bill_depth_mm'].mean()\n",
    "mean_7 = penguins.loc[(penguins['species'] == 'Gentoo')&(penguins['island'] == 'Biscoe')]['flipper_length_mm'].mean()\n",
    "mean_8 = penguins.loc[(penguins['species'] == 'Gentoo')&(penguins['island'] == 'Biscoe')]['body_mass_g'].mean()\n",
    "\n",
    "penguins.loc[penguins['species'] == 'Adelie', 'sex'] = penguins.loc[penguins['species'] == 'Adelie', 'sex'].fillna('Male')\n",
    "\n",
    "penguins.loc[penguins['species'] == 'Gentoo', 'sex'] = penguins.loc[penguins['species'] == 'Gentoo', 'sex'].fillna('Female')\n",
    "\n",
    "penguins.loc[(penguins['species'] == 'Adelie') & (penguins['island'] == 'Torgersen'), 'bill_length_mm'] = penguins.loc[(penguins['species'] == 'Adelie') & (penguins['island'] == 'Torgersen'), 'bill_length_mm'].fillna(mean_1)\n",
    "\n",
    "penguins.loc[(penguins['species'] == 'Adelie') & (penguins['island'] == 'Torgersen'), 'bill_depth_mm'] = penguins.loc[(penguins['species'] == 'Adelie') & (penguins['island'] == 'Torgersen'), 'bill_depth_mm'].fillna(mean_2)\n",
    "\n",
    "penguins.loc[(penguins['species'] == 'Adelie') & (penguins['island'] == 'Torgersen'), 'flipper_length_mm'] = penguins.loc[(penguins['species'] == 'Adelie') & (penguins['island'] == 'Torgersen'), 'flipper_length_mm'].fillna(mean_3)\n",
    "\n",
    "penguins.loc[(penguins['species'] == 'Adelie') & (penguins['island'] == 'Torgersen'), 'body_mass_g'] = penguins.loc[(penguins['species'] == 'Adelie') & (penguins['island'] == 'Torgersen'), 'body_mass_g'].fillna(mean_4)\n",
    "\n",
    "penguins.loc[(penguins['species'] == 'Gentoo') & (penguins['island'] == 'Biscoe'), 'bill_length_mm'] = penguins.loc[(penguins['species'] == 'Gentoo') & (penguins['island'] == 'Biscoe'), 'bill_length_mm'].fillna(mean_5)\n",
    "\n",
    "penguins.loc[(penguins['species'] == 'Gentoo') & (penguins['island'] == 'Biscoe'), 'bill_depth_mm'] = penguins.loc[(penguins['species'] == 'Gentoo') & (penguins['island'] == 'Biscoe'), 'bill_depth_mm'].fillna(mean_6)\n",
    "\n",
    "penguins.loc[(penguins['species'] == 'Gentoo') & (penguins['island'] == 'Biscoe'), 'flipper_length_mm'] = penguins.loc[(penguins['species'] == 'Gentoo') & (penguins['island'] == 'Biscoe'), 'flipper_length_mm'].fillna(mean_7)\n",
    "\n",
    "penguins.loc[(penguins['species'] == 'Gentoo') & (penguins['island'] == 'Biscoe'), 'body_mass_g'] = penguins.loc[(penguins['species'] == 'Gentoo') & (penguins['island'] == 'Biscoe'), 'body_mass_g'].fillna(mean_8)"
   ]
  },
  {
   "cell_type": "code",
   "execution_count": 3,
   "metadata": {},
   "outputs": [],
   "source": [
    "df = penguins.copy()"
   ]
  },
  {
   "cell_type": "markdown",
   "metadata": {},
   "source": [
    "#### Visto a base de probabilidade, está na hora de analisarmos a Inferência em si. Vamos trabalhar estimando parâmetros, intervalos e produzindo testes de hipóteses paramétricos e não paramétricos\n",
    "\n",
    "Aqui vamos abordar conceitos de inferência. A inferência estatística é determinar um parâmetro, ou resposta, de uma população tendo-se apenas uma amostra da mesma. Como por exemplo, determinar a média de todos os estudantes do Brasil com uma amostra.\n",
    "Vale ressaltar que as amostras precisam ser aleatórias onde todos os elementos da população tenham chance de entrar e representativas o suficiente para não excluir nenhuma parte da população\n",
    "\n",
    "Agora, podemos determinar um parâmetro seja por ponto ou intervalo.\n",
    "\n",
    "Conceitos importantes:\n",
    "\n",
    "- Estimação:\n",
    "  Processo de se retirar respostas de amostras por ponto, intervalo ou teste de hipóteses\n",
    "- Estimador e Estimativa:\n",
    "  Estimador é a variável aleatória ou y que surge como uma função ou cálculo para trazer uma estimativa mais precisa sobre a população\n"
   ]
  },
  {
   "cell_type": "markdown",
   "metadata": {},
   "source": [
    "## Estimação por Ponto:\n",
    "\n",
    "Alguns exemplos são:\n",
    "\n",
    "### Estimação da Média e Variância\n",
    "\n",
    "#### Média Amostral (\\( $\\bar{x}$ \\)):\n",
    "\n",
    "$$ \\bar{x} = \\frac{1}{n} \\sum\\_{i=1}^{n} x_i $$\n",
    "\n",
    "#### Variância Amostral (\\( $s^2$ \\)):\n",
    "\n",
    "$$ s^2 = \\frac{1}{n-1} \\sum\\_{i=1}^{n} (x_i - \\bar{x})^2 $$\n",
    "\n",
    "### Estimação da Proporção\n",
    "\n",
    "#### Proporção Amostral (\\( $\\hat{p}$ \\)):\n",
    "\n",
    "$$ \\hat{p} = \\frac{x}{n} $$\n",
    "\n",
    "### Erro Padrão e Covariância\n",
    "\n",
    "#### Erro Padrão da Média (\\( $SE(\\bar{x})$ \\)):\n",
    "\n",
    "$$ SE(\\bar{x}) = \\frac{s}{\\sqrt{n}} $$\n",
    "\n",
    "#### Covariância Amostral (\\( $s_{xy}$ \\)):\n",
    "\n",
    "$$ s*{xy} = \\frac{1}{n-1} \\sum*{i=1}^{n} (x_i - \\bar{x})(y_i - \\bar{y}) $$\n",
    "\n",
    "### Mínimos Quadrados Ordinários (OLS)\n",
    "\n",
    "#### Estimação do Coeficiente Linear (\\( $\\hat{\\beta}_0$ \\)) e do Coeficiente Angular (\\( $\\hat{\\beta}_1$ \\)):\n",
    "\n",
    "$$ \\hat{\\beta}_1 = \\frac{\\sum_{i=1}^{n} (x*i - \\bar{x})(y_i - \\bar{y})}{\\sum*{i=1}^{n} (x_i - \\bar{x})^2} $$\n",
    "\n",
    "$$ \\hat{\\beta}\\_0 = \\bar{y} - \\hat{\\beta}\\_1 \\bar{x} $$\n",
    "\n",
    "AGORA VAMOS ESTIMAR UMA POR UMA EM UMA AMOSTRA EXTRAÍDA DOS NOSSOS DADOS SOBRE PENGUINS\n",
    "PARA INFERÊNCIA EU OPTO POR USAR A BILBIOTECA _statsmodels_ DO PYTHON"
   ]
  },
  {
   "cell_type": "code",
   "execution_count": 4,
   "metadata": {},
   "outputs": [],
   "source": [
    "#Retirando uma amostra - Optei por testar duas amostras, uma com apenas 50 elementos e outra com a metade dos elemtos \n",
    "import statsmodels.stats as sts\n",
    "\n",
    "amostra_menor = df.sample(n=50, replace=True) \n",
    "amostra_maior = df.sample(frac=0.5)"
   ]
  },
  {
   "cell_type": "code",
   "execution_count": 5,
   "metadata": {},
   "outputs": [
    {
     "name": "stdout",
     "output_type": "stream",
     "text": [
      "(50, 7)\n",
      "(172, 7)\n"
     ]
    }
   ],
   "source": [
    "print(amostra_menor.shape)\n",
    "print(amostra_maior.shape)"
   ]
  },
  {
   "cell_type": "code",
   "execution_count": 6,
   "metadata": {},
   "outputs": [
    {
     "name": "stdout",
     "output_type": "stream",
     "text": [
      "Média População: 4202.86\n",
      "Desvio e Variância População: 800.29 & 640456.44\n"
     ]
    }
   ],
   "source": [
    "#Dados da população\n",
    "array = df['body_mass_g']\n",
    "print(f'Média População: {np.mean(array):.2F}')\n",
    "print(f'Desvio e Variância População: {np.std(array):.2F} & {np.var(array):.2F}')"
   ]
  },
  {
   "cell_type": "code",
   "execution_count": 7,
   "metadata": {},
   "outputs": [
    {
     "name": "stdout",
     "output_type": "stream",
     "text": [
      "Estimando por cálculo a média da menor amostra seria: 4097.0\n",
      "Estimando por cálculo a média da maior amostra seria: 4238.12\n"
     ]
    }
   ],
   "source": [
    "#Estimando as médias de ambos para a variável massa\n",
    "\n",
    "print(f'Estimando por cálculo a média da menor amostra seria: {sum(amostra_menor.body_mass_g)/len(amostra_menor)}')\n",
    "print(f'Estimando por cálculo a média da maior amostra seria: {(sum(amostra_maior.body_mass_g)/len(amostra_maior)):.2F}')"
   ]
  },
  {
   "cell_type": "code",
   "execution_count": 8,
   "metadata": {},
   "outputs": [
    {
     "name": "stdout",
     "output_type": "stream",
     "text": [
      "Media amostral: 4097.00\n",
      "Variância amostral: 547466.00\n",
      "Desvio amostral: 739.91\n",
      "Erro Padrão da Média: 105.70\n",
      "Covariância: 18.06\n"
     ]
    }
   ],
   "source": [
    "# Agora usando a biblioteca statsmodel\n",
    "\n",
    "from statsmodels.stats.weightstats import DescrStatsW #a classe DESCRSTATSW terá todas as funções que precisamos para estimação\n",
    "\n",
    "desc = DescrStatsW(amostra_menor['body_mass_g'])\n",
    "\n",
    "media = desc.mean\n",
    "var = desc.var\n",
    "desvio = desc.std\n",
    "err_m = desc.std_mean\n",
    "cv = desc.std / desc.mean *100\n",
    "\n",
    "print(f'Media amostral: {media:.2F}')\n",
    "print(f'Variância amostral: {var:.2F}')\n",
    "print(f'Desvio amostral: {desvio:.2F}')\n",
    "print(f'Erro Padrão da Média: {err_m:.2F}')\n",
    "print(f'Covariância: {cv:.2F}')"
   ]
  },
  {
   "cell_type": "code",
   "execution_count": 9,
   "metadata": {},
   "outputs": [
    {
     "name": "stdout",
     "output_type": "stream",
     "text": [
      "Media amostral: 4238.12\n",
      "Variância amostral: 711838.66\n",
      "Desvio amostral: 843.71\n",
      "Erro Padrão da Média: 64.52\n",
      "Covariância: 19.91\n"
     ]
    }
   ],
   "source": [
    "desc = DescrStatsW(amostra_maior['body_mass_g'])\n",
    "\n",
    "media = desc.mean\n",
    "var = desc.var\n",
    "desvio = desc.std\n",
    "err_m = desc.std_mean\n",
    "cv = desc.std / desc.mean *100\n",
    "\n",
    "print(f'Media amostral: {media:.2F}')\n",
    "print(f'Variância amostral: {var:.2F}')\n",
    "print(f'Desvio amostral: {desvio:.2F}')\n",
    "print(f'Erro Padrão da Média: {err_m:.2F}')\n",
    "print(f'Covariância: {cv:.2F}')"
   ]
  },
  {
   "cell_type": "markdown",
   "metadata": {},
   "source": [
    "##### É possível notar que as estimativas estão próximas aos parâmetros da população, e vale ressaltar que ao se aumentar a quantidade de elementos na amostra a média pode se aproximar cada vez mais do parâmetro original da População"
   ]
  },
  {
   "cell_type": "markdown",
   "metadata": {},
   "source": [
    "## Estimação por intervalo de Confiança\n",
    "\n",
    "Feito a estimação por ponto, cabe agora estimar intervalo, a boa prática em estatística nos induz a estimar por intervalos já que, comumente, nossas estimativas possuem certas margens de erro. Para tal, apresentar uma faixa de valores onde podemos ter 95%, 90% ou 99% de chances de nossa estimativa realmente estar, ajuda muito e também se apresentada junto à umas estimativa apresentam resultados muito confiáveis e precisos\n",
    "Para isso, usamos técnicas provenientes de distribuição de estimativas amostrais, selecinando o melhor método (estatística)\n",
    "\n",
    "O primeiro passo é decidir qual estatística crítica utilizar a partir de uma estatística amostral (como Z, t, F, Chi). Quando estimamos um parâmetro, é fundamental considerar a incerteza associada à estimativa. Para quantificar essa incerteza, definimos um nível de confiança e selecionamos valores críticos (ou seja, limites) nas distribuições das estatísticas Z, t, F, Chi-squared, Z de proporção, etc., onde todos os valores possíveis têm uma probabilidade de 95% (ou outro nível de confiança escolhido) de conter a verdadeira estimativa do parâmetro.\n",
    "\n",
    "Para médias, quando se conhece o desvio padrão da população, usamos a estatística Z e quando não sabemos o desvio, a estatística t é usada\n",
    "\n",
    "Para proporção, também usamos a estatística Z porém com certas mudanças\n",
    "\n",
    "Já para variâncias a estatística x² ou F são as mais recomendadas\n",
    "\n",
    "Saber a estatística usada vai nos dar o limite crítico de α a um nível de significância determinado\n",
    "\n",
    "As fórmulas usadas seguem-se:\n",
    "\n",
    "### Intervalo de Confiança para Teste \\( t \\)\n",
    "\n",
    "Para um teste \\( $t$ \\) de uma única média, o intervalo de confiança pode ser dado por:\n",
    "\n",
    "$$ \\bar{x} \\pm t\\_{\\alpha/2, n-1} \\cdot \\frac{s}{\\sqrt{n}} $$\n",
    "\n",
    "Onde:\n",
    "\n",
    "- \\( $\\bar{x}$ \\) é a média amostral,\n",
    "- \\( $t_{\\alpha/2, n-1}$ \\) é o valor crítico da distribuição \\( $t$ \\) com \\( $n-1$ \\) graus de liberdade e nível de significância \\( $\\alpha$ \\),\n",
    "- \\( $s$ \\) é o desvio padrão amostral,\n",
    "- \\( $n$ \\) é o tamanho da amostra,\n",
    "- \\( $SE(\\bar{x})$ = $\\frac{s}{\\sqrt{n}}$ \\) é o erro padrão da média.\n",
    "\n",
    "### Intervalo de Confiança para Teste \\( $z$ \\)\n",
    "\n",
    "Para um teste \\( $z$ \\) (normal), o intervalo de confiança pode ser dado por:\n",
    "\n",
    "$$ \\bar{x} \\pm z\\_{\\alpha/2} \\cdot \\frac{\\sigma}{\\sqrt{n}} $$\n",
    "\n",
    "Onde:\n",
    "\n",
    "- \\( $\\bar{x}$ \\) é a média amostral,\n",
    "- \\( $z_{\\alpha/2}$ \\) é o valor crítico da distribuição normal padrão para o nível de significância \\( $\\alpha$ \\),\n",
    "- \\( $\\sigma$ \\) é o desvio padrão populacional (conhecido),\n",
    "- \\( $n$ \\) é o tamanho da amostra,\n",
    "- \\( $SE(\\bar{x})$ = $\\frac{\\sigma}{\\sqrt{n}}$ \\) é o erro padrão da média.\n",
    "\n",
    "### Intervalo de Confiança para Teste \\( $\\chi^2$ \\)\n",
    "\n",
    "Para um teste \\( $\\chi^2$ \\), o intervalo de confiança para a variância pode ser dado por:\n",
    "\n",
    "$$ \\left( \\frac{(n-1)s^2}{\\chi^2*{\\alpha/2, n-1}}, \\frac{(n-1)s^2}{\\chi^2*{1-\\alpha/2, n-1}} \\right) $$\n",
    "\n",
    "Onde:\n",
    "\n",
    "- \\( $s^2$ \\) é a variância amostral,\n",
    "- \\( $\\chi^2_{\\alpha/2, n-1}$ \\) e \\( $\\chi^2_{1-\\alpha/2, n-1}$\\) são os quantis da distribuição \\( $\\chi^2$ \\) com \\( $n-1$ \\) graus de liberdade e níveis de significância \\( $\\alpha/2$ \\) e \\( $1-\\alpha/2 $\\), respectivamente,\n",
    "- \\( $SE(s^2)$ = $\\sqrt{\\frac{2(n-1)}{\\chi^2_{\\alpha/2, n-1}} - 1}$ \\) é o erro padrão da variância.\n",
    "\n",
    "### Intervalo de Confiança para o Teste $F$\n",
    "\n",
    "A fórmula do intervalo de confiança para o teste F pode ser expressa como:\n",
    "\n",
    "$$ \\left( \\frac{s*1^2}{s_2^2} \\right) \\cdot F*{\\alpha/2, \\, v*1, \\, v_2} \\leq \\frac{\\sigma_1^2}{\\sigma_2^2} \\leq \\left( \\frac{s_1^2}{s_2^2} \\right) \\cdot F*{1-\\alpha/2, \\, v_1, \\, v_2} $$\n",
    "\n",
    "**Onde:**\n",
    "\n",
    "- $s_1^2$ e $s_2^2$ são as variâncias amostrais das duas populações.\n",
    "- $F_{\\alpha/2, \\, v_1, \\, v_2}$ e $F_{1-\\alpha/2, \\, v_1, \\, v_2}$ são os quantis da distribuição F com $v_1$ e $v_2$ graus de liberdade para os percentis $\\alpha/2$ e $1-\\alpha/2$, respectivamente.\n",
    "\n",
    "### Intervalo de Confiança para o Teste t de Duas Médias\n",
    "\n",
    "A fórmula do intervalo de confiança para o teste t de duas médias pode ser expressa como:\n",
    "\n",
    "$$ \\bar{x}_1 - \\bar{x}\\_2 \\pm t_{\\alpha/2, \\, v} \\cdot \\sqrt{\\frac{s_1^2}{n_1} + \\frac{s_2^2}{n_2}} $$\n",
    "\n",
    "**Onde:**\n",
    "\n",
    "- $\\bar{x}_1$ e $\\bar{x}_2$ são as médias amostrais das duas populações.\n",
    "- $s_1^2$ e $s_2^2$ são as variâncias amostrais das duas populações.\n",
    "- $n_1$ e $n_2$ são os tamanhos das amostras das duas populações.\n",
    "- $t_{\\alpha/2, \\, v}$ é o quantil da distribuição t de Student com $v$ graus de liberdade para o percentil $\\alpha/2$.\n",
    "\n",
    "O erro padrão para cada intervalo de confiança é dado pela expressão $\\sqrt{\\frac{s_1^2}{n_1} + \\frac{s_2^2}{n_2}}$, que representa a variabilidade esperada das médias amostrais em relação às médias populacionais.\n"
   ]
  },
  {
   "cell_type": "code",
   "execution_count": 10,
   "metadata": {},
   "outputs": [],
   "source": [
    "# Vamos resgatar as médias encontradas nas estimativas de ponto e trabalhar nos intervalos\n",
    "\n",
    "import statsmodels.stats.proportion as stpr\n",
    "\n",
    "\n",
    "#media = desc.mean\n",
    "#var = desc.var\n",
    "#desvio = desc.std\n",
    "#err_m = desc.std_mean\n",
    "\n",
    "#Intervalo de Confiança para teste z\n",
    "ci_mean_z = desc.zconfint_mean() #para média e nao teste\n",
    "\n",
    "#Intervalo de Confiança para teste t\n",
    "ci_mean = desc.tconfint_mean() #para média e nao teste\n",
    "\n",
    "#Intervalo de Confiança para 1 proporção\n",
    "# number of successes, can be pandas Series or DataFrame. Arrays must contain integer values if method is “binom_test”.\n",
    "# count = sucessos\n",
    "# nobs = tamanho da amostra\n",
    "ci_prop1 = stpr.proportion_confint(count=50, nobs=100)\n",
    "\n",
    "#Intervalo de Confiança para 2 proporções\n",
    "ci_prop2 = stpr.confint_proportions_2indep(count1=50, nobs1=100, count2=30, nobs2=90)\n",
    "\n",
    "#Intervalo de Confiança para diferenças de duas médias Z e T\n",
    "desc2 = sts.weightstats.DescrStatsW(amostra_menor['body_mass_g'])\n",
    "\n",
    "desc_g = sts.weightstats.CompareMeans(desc,desc2) #as duas medias e/ou proporções para CompareMeans deve ser instancias de DescrStatsW\n",
    "ci_2means_z = desc_g.zconfint_diff()\n",
    "ci_2means_t = desc_g.tconfint_diff()\n",
    "\n",
    "\n",
    "#Intervalo de Confiança para Variância\n",
    "#Para variância ainda desconheço um calculo por método direto. Portanto vamos usar o teste Chi Quadrado para calcular com a biblioteca Scipy\n",
    "sample_variance = np.var(amostra_maior['body_mass_g'], ddof=1) #ou desc.var também é válido\n",
    "df = len(amostra_maior) - 1\n",
    "alpha = 0.05\n",
    "chi2_lower_tail = st.chi2.ppf(alpha / 2, df)\n",
    "chi2_upper_tail = st.chi2.ppf(1 - alpha / 2, df)\n",
    "ci_lower = (df * sample_variance) / chi2_upper_tail\n",
    "ci_upper = (df * sample_variance) / chi2_lower_tail"
   ]
  },
  {
   "cell_type": "code",
   "execution_count": 11,
   "metadata": {},
   "outputs": [
    {
     "name": "stdout",
     "output_type": "stream",
     "text": [
      "Intervalo de Conf teste 1: (4111.6620430421535, 4364.574847062726)\n",
      "Intervalo de Conf teste 1: (4110.760703986724, 4365.476186118155)\n",
      "Intervalo de Conf teste 1: (0.4020018007729973, 0.5979981992270027)\n",
      "Intervalo de Conf teste 1: (0.026156727507188615, 0.2975616978115092)\n",
      "Intervalo de Conf teste 1: (-118.73816045531862, 400.97505056019804)\n",
      "Intervalo de Conf teste 1: (-120.17556616004578, 402.4124562649252)\n",
      "Intervalo de Conf teste 1: 585534.486884705 - 895763.1893340535\n"
     ]
    }
   ],
   "source": [
    "print(f'Intervalo de Conf teste 1: {ci_mean_z}')\n",
    "print(f'Intervalo de Conf teste 1: {ci_mean}')\n",
    "print(f'Intervalo de Conf teste 1: {ci_prop1}')\n",
    "print(f'Intervalo de Conf teste 1: {ci_prop2}')\n",
    "print(f'Intervalo de Conf teste 1: {ci_2means_z}')\n",
    "print(f'Intervalo de Conf teste 1: {ci_2means_t}')\n",
    "print(f'Intervalo de Conf teste 1: {ci_lower} - {ci_upper}')"
   ]
  },
  {
   "cell_type": "code",
   "execution_count": null,
   "metadata": {},
   "outputs": [],
   "source": []
  }
 ],
 "metadata": {
  "kernelspec": {
   "display_name": "base",
   "language": "python",
   "name": "python3"
  },
  "language_info": {
   "codemirror_mode": {
    "name": "ipython",
    "version": 3
   },
   "file_extension": ".py",
   "mimetype": "text/x-python",
   "name": "python",
   "nbconvert_exporter": "python",
   "pygments_lexer": "ipython3",
   "version": "3.11.5"
  }
 },
 "nbformat": 4,
 "nbformat_minor": 2
}
