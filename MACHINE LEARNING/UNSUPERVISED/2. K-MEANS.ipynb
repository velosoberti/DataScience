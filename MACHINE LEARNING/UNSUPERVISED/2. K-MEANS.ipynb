{
 "cells": [
  {
   "cell_type": "markdown",
   "metadata": {},
   "source": [
    "# Clusterização \n",
    "\n",
    "Clusterização é o processo de unir instâncias em clusters (grupos semelhantes por algumas informações)\n",
    "\n",
    "|Uso|Objetivo|\n",
    "|:--:|:--:|\n",
    "|Segmentação de clientes|Agrupar clientes que possuem mesmas rotinas ou gostos de compra. Muito útil em sistemas de recomendação para novos clientes|\n",
    "|Análise de Dados|Comumente se faz uso de clusterização para poder criar grupos distintos e analisá-los de forma separada, isso traz lucidez e insights valiosos|\n",
    "|Redução de Dimensionalidade|É possível calcular a afinidade de cada instância com determinado cluster|\n",
    "|Detecção de Anomalias|Uma instância com baixa afiniadade com qualquer cluster comumente é um outlier ou erro|\n",
    "\n",
    "Não há uma definição universal do que é um cluster. Isso depende do contexto inserido. Alguns algoritmos buscam as intâncias em torno de pontos centrais chamados de *centroides*, outros já buscam regiões compactadas, esse já pode assumir qualquer forma\n",
    "\n",
    "## Tipos\n",
    "\n",
    "### K-Means\n",
    "\n",
    "O algoritmo **K-Means** une clusters com base em centroides (posição dos pontos centrais) passados. Simples? Bem, até pode parecer, mas não se engane, esse algoritmo prega peças. Vejamos:\n",
    "</br>\n",
    "Um dos principais \"problemas\" do K-Means é que a quantidade de clusters(centroides) precisa ser especificado antes do treinamento. Caso a quantidade de clusters passados esteja errada, conforme a distribuição de seus dados, o modelo poderá criar boundarys repletas de instâncias erradas (invasoras) piorando a aplicabilidade do modelo e acurácia; </br>\n",
    "\n",
    "#### Atribuíndo a posição dos centróides:\n",
    "\n",
    "A forma tradicional do K-Means é atribuir a cada instância um único cluster, chamado de *hard clustering*, porém as vezes pode ser interessante atribuir a cada instância um centroide de maior **score** com base na distância do centroide e da instância, a isso chamamos de *soft clustering*\n",
    "\n",
    "Um bom método de inialização seria iniciar o modelo com centroides posicionados de forma aleatória, rodar o modelo, rotular as instâncias e repetir os passos até que os centroides parem de se mover. Porém esse método pode ter um alto custo computacional e inferir pontos errados.\n",
    "\n",
    "</br>\n",
    "\n",
    "Outra forma, então, seria você ter uma noção de onde esses centroides  (depois de rodar um anterior de forma aleatória) e definir o hiperparm *init* como um array e definir *n_init = 1*\n",
    "```python\n",
    "good_init = np.array([[-3,3],[-3,2],[-3,1],[-1,2],[0,2]]) #5 clusters -> 5 posições para o centroide\n",
    "kmeans = KMeans(n_clusters=5, init = good_init, n_init=1)\n",
    "```\n",
    "Outra forma, seria rodar o algoritmo com diversas inicializações aleatórias usando o hiperparm *n_init* como 10, por exemplo. O n_init controla quantas vezes o modelo irá rodar. Depois de finalizado, o modelo irá guardar o melhor modelo que obteve a métrica de ***inércia*** menor (distância quadrada da média de cada instância com o centroide mais próximo), você pode acessar a inércia do seu modelo com *inertia_*\n",
    "\n",
    "Porém, hoje uma atualização no modelo KMean foi implementada, ele seleciona um centroide aleatório, depois disso ele refaz o processo com um novo centroide e captura a *probabilidade* das instâncias mais próximas e faz uma distribuição de probabilidades de cada e inputa a instância, depois, no centróide mais provável. </br>\n",
    "Por padrão o KMeans do Sklearn já tem esse método de inicialização, porém pode usar o método original setando *init* como \"random\", mas isso é bem raro de ocorrer.\n",
    "\n",
    "- Fórmula:\n",
    "$$\n",
    "P(x) = \\frac{D(x)^2}{\\sum_{x' \\in X} D(x')^2}\n",
    "$$\n",
    "\n",
    "**Onde:**\n",
    "- $P(x)$ é a probabilidade de escolher a instância $x$ como o próximo centroide.\n",
    "- $D(x)$ é a distância da instância $x$ ao centroide mais próximo.\n",
    "- $X$ é o conjunto de todas as instâncias.\n",
    "\n",
    "#### Atribuindo o número de clusters\n",
    "\n",
    "Vale começar explicando que a inércia não é uma boa métrica para definir uma boa quantidade de clusters, visto que a medida que aumentamos o número de clusters a distância da instância do centroide será sempre menor, portanto a inércia sempre será menor.\n",
    "\n",
    "Um bom método, famoso, é ver o clusters que se encontra no ***\"elbow\"*** em um gráfico $(y)$ sendo a inércia e $(x)$ o número de clusters. Onde o clusters se encontrar em um ponto mais parecido com um cotovelo, é provável que seja uma boa quantidade.\n",
    "\n",
    "Contudo, há uma forma um pouco mais sofisticada para a escolha, chamamos de ***silhouette score***. O Silhouette de uma instância se dá por $(b - a) / max(a,b)$ em que $a$ é a distância média para as outras instâncias no mesmo cluster (distância intracluster) e $b$ é a distância média do clusters mais próximo. O coeficiente varia de +1 a -1, sendo +1 significando que a instância está dentro de seu cluster, 0 que está na fronteira e -1 que está fora de seu cluster.\n",
    "\n",
    "O cálculo do coef pode ser feito pela Sklearn com \n",
    " ```python\n",
    " from sklearn.metrics import silhouette_score\n",
    " silhouette_score(X, kmeans.labels_)\n",
    " ```\n",
    "\n",
    " - #### Limites do KMeans\n",
    "\n",
    "O principal problema do KMeans é que ele não se dá bem em datasets com clusters de formas muitos distâncias de esferas ou densidades variadas.\n",
    "\n",
    "\n",
    "## Dicas :\n",
    "\n",
    "Escalone seus dados, se preciso e se atente a outliers, por ser um algoritmo de distância, essas duas variáveis podem influenciar muito o modelo\n",
    "\n"
   ]
  },
  {
   "cell_type": "code",
   "execution_count": 56,
   "metadata": {},
   "outputs": [],
   "source": [
    "import warnings\n",
    "\n",
    "# Suprimir avisos\n",
    "warnings.filterwarnings(\"ignore\")"
   ]
  },
  {
   "cell_type": "code",
   "execution_count": 70,
   "metadata": {},
   "outputs": [
    {
     "data": {
      "text/plain": [
       "array([1, 1, 2, 0, 2, 2, 2])"
      ]
     },
     "execution_count": 70,
     "metadata": {},
     "output_type": "execute_result"
    }
   ],
   "source": [
    "from sklearn.cluster import KMeans\n",
    "import pandas as pd\n",
    "data = {\n",
    "    'Feature_1': [1.0, 1.5, 3.0, 5.0, 3.5, 4.5, 3.5],\n",
    "    'Feature_2': [1.0, 2.0, 4.0, 7.0, 5.0, 5.0, 4.5]\n",
    "}\n",
    "\n",
    "df = pd.DataFrame(data)\n",
    "kmeans = KMeans(n_clusters=3, random_state=0, n_init=\"auto\").fit(df)\n",
    "kmeans.labels_"
   ]
  },
  {
   "cell_type": "code",
   "execution_count": 71,
   "metadata": {},
   "outputs": [],
   "source": [
    "df['Cluster'] = kmeans.labels_"
   ]
  },
  {
   "cell_type": "code",
   "execution_count": 72,
   "metadata": {},
   "outputs": [
    {
     "data": {
      "text/html": [
       "<div>\n",
       "<style scoped>\n",
       "    .dataframe tbody tr th:only-of-type {\n",
       "        vertical-align: middle;\n",
       "    }\n",
       "\n",
       "    .dataframe tbody tr th {\n",
       "        vertical-align: top;\n",
       "    }\n",
       "\n",
       "    .dataframe thead th {\n",
       "        text-align: right;\n",
       "    }\n",
       "</style>\n",
       "<table border=\"1\" class=\"dataframe\">\n",
       "  <thead>\n",
       "    <tr style=\"text-align: right;\">\n",
       "      <th></th>\n",
       "      <th>Feature_1</th>\n",
       "      <th>Feature_2</th>\n",
       "      <th>Cluster</th>\n",
       "    </tr>\n",
       "  </thead>\n",
       "  <tbody>\n",
       "    <tr>\n",
       "      <th>0</th>\n",
       "      <td>1.0</td>\n",
       "      <td>1.0</td>\n",
       "      <td>1</td>\n",
       "    </tr>\n",
       "    <tr>\n",
       "      <th>1</th>\n",
       "      <td>1.5</td>\n",
       "      <td>2.0</td>\n",
       "      <td>1</td>\n",
       "    </tr>\n",
       "    <tr>\n",
       "      <th>2</th>\n",
       "      <td>3.0</td>\n",
       "      <td>4.0</td>\n",
       "      <td>2</td>\n",
       "    </tr>\n",
       "    <tr>\n",
       "      <th>3</th>\n",
       "      <td>5.0</td>\n",
       "      <td>7.0</td>\n",
       "      <td>0</td>\n",
       "    </tr>\n",
       "    <tr>\n",
       "      <th>4</th>\n",
       "      <td>3.5</td>\n",
       "      <td>5.0</td>\n",
       "      <td>2</td>\n",
       "    </tr>\n",
       "    <tr>\n",
       "      <th>5</th>\n",
       "      <td>4.5</td>\n",
       "      <td>5.0</td>\n",
       "      <td>2</td>\n",
       "    </tr>\n",
       "    <tr>\n",
       "      <th>6</th>\n",
       "      <td>3.5</td>\n",
       "      <td>4.5</td>\n",
       "      <td>2</td>\n",
       "    </tr>\n",
       "  </tbody>\n",
       "</table>\n",
       "</div>"
      ],
      "text/plain": [
       "   Feature_1  Feature_2  Cluster\n",
       "0        1.0        1.0        1\n",
       "1        1.5        2.0        1\n",
       "2        3.0        4.0        2\n",
       "3        5.0        7.0        0\n",
       "4        3.5        5.0        2\n",
       "5        4.5        5.0        2\n",
       "6        3.5        4.5        2"
      ]
     },
     "execution_count": 72,
     "metadata": {},
     "output_type": "execute_result"
    }
   ],
   "source": [
    "df"
   ]
  },
  {
   "cell_type": "code",
   "execution_count": 73,
   "metadata": {},
   "outputs": [
    {
     "data": {
      "text/plain": [
       "array([[5.   , 7.   ],\n",
       "       [1.25 , 1.5  ],\n",
       "       [3.625, 4.625]])"
      ]
     },
     "execution_count": 73,
     "metadata": {},
     "output_type": "execute_result"
    }
   ],
   "source": [
    "kmeans.cluster_centers_"
   ]
  },
  {
   "cell_type": "code",
   "execution_count": 75,
   "metadata": {},
   "outputs": [
    {
     "data": {
      "image/png": "[encoded data removed]",
      "text/plain": [
       "<Figure size 640x480 with 1 Axes>"
      ]
     },
     "metadata": {},
     "output_type": "display_data"
    }
   ],
   "source": [
    "import matplotlib.pyplot as plt\n",
    "plt.scatter(df['Feature_1'], df['Feature_2'], c=df['Cluster'], cmap='viridis', label='Data Points')\n",
    "plt.scatter(kmeans.cluster_centers_[:, 0], kmeans.cluster_centers_[:, 1], s=200, c='red', marker='X', label='Centroids')\n",
    "plt.xlabel('Feature 1')\n",
    "plt.ylabel('Feature 2')\n",
    "plt.title('K-Means Clustering')\n",
    "plt.legend()\n",
    "plt.show()"
   ]
  },
  {
   "cell_type": "code",
   "execution_count": 76,
   "metadata": {},
   "outputs": [
    {
     "data": {
      "text/plain": [
       "array([1, 0])"
      ]
     },
     "execution_count": 76,
     "metadata": {},
     "output_type": "execute_result"
    }
   ],
   "source": [
    "kmeans.predict([[0, 0], [12, 3]])"
   ]
  },
  {
   "cell_type": "code",
   "execution_count": 77,
   "metadata": {},
   "outputs": [
    {
     "data": {
      "text/plain": [
       "array([[5.   , 7.   ],\n",
       "       [1.25 , 1.5  ],\n",
       "       [3.625, 4.625]])"
      ]
     },
     "execution_count": 77,
     "metadata": {},
     "output_type": "execute_result"
    }
   ],
   "source": [
    "kmeans.cluster_centers_"
   ]
  },
  {
   "cell_type": "markdown",
   "metadata": {},
   "source": [
    "Encontrando uma boma quantidade de cluster pelo méotodo Elbow"
   ]
  },
  {
   "cell_type": "code",
   "execution_count": 78,
   "metadata": {},
   "outputs": [
    {
     "data": {
      "image/png": "[encoded data removed]",
      "text/plain": [
       "<Figure size 640x480 with 1 Axes>"
      ]
     },
     "metadata": {},
     "output_type": "display_data"
    }
   ],
   "source": [
    "inertia = []\n",
    "\n",
    "for n in range(1, 7):\n",
    "    kmeans = KMeans(n_clusters=n, random_state=0)\n",
    "    kmeans.fit(df)\n",
    "    inertia.append(kmeans.inertia_)\n",
    "\n",
    "plt.plot(range(1, 7), inertia, marker='o')\n",
    "plt.xlabel('Number of Clusters')\n",
    "plt.ylabel('Inertia')\n",
    "plt.title('Elbow Method for Optimal K')\n",
    "plt.show()"
   ]
  },
  {
   "cell_type": "code",
   "execution_count": 79,
   "metadata": {},
   "outputs": [
    {
     "data": {
      "text/plain": [
       "0.11327045983049322"
      ]
     },
     "execution_count": 79,
     "metadata": {},
     "output_type": "execute_result"
    }
   ],
   "source": [
    "from sklearn.metrics import silhouette_score\n",
    "silhouette_score(df, kmeans.labels_) #score com 3 clusters (nosso valor inicial)"
   ]
  },
  {
   "cell_type": "code",
   "execution_count": 80,
   "metadata": {},
   "outputs": [
    {
     "data": {
      "image/png": "[encoded data removed]",
      "text/plain": [
       "<Figure size 640x480 with 1 Axes>"
      ]
     },
     "metadata": {},
     "output_type": "display_data"
    }
   ],
   "source": [
    "# Lista para armazenar os Silhouette Scores\n",
    "silhouette_scores = []\n",
    "\n",
    "# Número máximo de clusters deve ser no máximo o número de amostras - 1\n",
    "max_clusters = min(len(df) - 1, 7)\n",
    "\n",
    "# Testar KMeans com diferentes números de clusters (de 2 até max_clusters)\n",
    "for n in range(2, max_clusters + 1):\n",
    "    kmeans = KMeans(n_clusters=n, random_state=0)\n",
    "    labels = kmeans.fit_predict(df)\n",
    "    score = silhouette_score(df, labels)\n",
    "    silhouette_scores.append(score)\n",
    "\n",
    "# Plotar o gráfico do Silhouette Score\n",
    "plt.plot(range(2, max_clusters + 1), silhouette_scores, marker='o')\n",
    "plt.xlabel('Number of Clusters')\n",
    "plt.ylabel('Silhouette Score')\n",
    "plt.title('Silhouette Score for Optimal K')\n",
    "plt.show()"
   ]
  },
  {
   "cell_type": "code",
   "execution_count": 81,
   "metadata": {},
   "outputs": [
    {
     "data": {
      "text/plain": [
       "0.32281684043174363"
      ]
     },
     "execution_count": 81,
     "metadata": {},
     "output_type": "execute_result"
    }
   ],
   "source": [
    "#Treinando modelo com Clusters = 2\n",
    "kmeans = KMeans(n_clusters=2, random_state=0, n_init=\"auto\").fit(df)\n",
    "silhouette_score(df, kmeans.labels_)"
   ]
  },
  {
   "cell_type": "markdown",
   "metadata": {},
   "source": [
    "## KMeans para Pre-processing"
   ]
  },
  {
   "cell_type": "code",
   "execution_count": 33,
   "metadata": {},
   "outputs": [],
   "source": [
    "from sklearn.datasets import load_digits\n",
    "\n",
    "X_digits, y_digits = load_digits(return_X_y=True)"
   ]
  },
  {
   "cell_type": "code",
   "execution_count": 48,
   "metadata": {},
   "outputs": [
    {
     "data": {
      "text/plain": [
       "0.9622222222222222"
      ]
     },
     "execution_count": 48,
     "metadata": {},
     "output_type": "execute_result"
    }
   ],
   "source": [
    "from sklearn.model_selection import train_test_split\n",
    "\n",
    "X_train, X_test, y_train, y_test = train_test_split(X_digits, y_digits)\n",
    "\n",
    "from sklearn.linear_model import LogisticRegression\n",
    "\n",
    "log_reg = LogisticRegression()\n",
    "log_reg.fit(X_train, y_train)\n",
    "\n",
    "log_reg.score(X_test, y_test)"
   ]
  },
  {
   "cell_type": "markdown",
   "metadata": {},
   "source": [
    "Pre-processando com KMeans e verificando a accuracy com modelo com clusters definidos"
   ]
  },
  {
   "cell_type": "code",
   "execution_count": 49,
   "metadata": {},
   "outputs": [
    {
     "data": {
      "text/plain": [
       "0.9622222222222222"
      ]
     },
     "execution_count": 49,
     "metadata": {},
     "output_type": "execute_result"
    }
   ],
   "source": [
    "from sklearn.pipeline import Pipeline\n",
    "\n",
    "pipe = Pipeline([\n",
    "    (\"kmeans\", KMeans(n_clusters=50)),\n",
    "    (\"log_reg\", LogisticRegression())\n",
    "])\n",
    "\n",
    "pipe.fit(X_train, y_train)\n",
    "pipe.score(X_test, y_test)"
   ]
  },
  {
   "cell_type": "markdown",
   "metadata": {},
   "source": [
    "Usando GridSearch para encontrar a melhor quantidade de clusters para se usar"
   ]
  },
  {
   "cell_type": "code",
   "execution_count": 50,
   "metadata": {},
   "outputs": [
    {
     "name": "stdout",
     "output_type": "stream",
     "text": [
      "Fitting 3 folds for each of 98 candidates, totalling 294 fits\n"
     ]
    },
    {
     "data": {
      "text/plain": [
       "{'kmeans__n_clusters': 54}"
      ]
     },
     "execution_count": 50,
     "metadata": {},
     "output_type": "execute_result"
    }
   ],
   "source": [
    "from sklearn.model_selection import GridSearchCV\n",
    "\n",
    "param_grid = dict(kmeans__n_clusters=range(2,100)) #setando um range de valores para se usar no param n_clusters do kmeans (nome dado ao modelo no pipeline)\n",
    "grid_clf = GridSearchCV(pipe, param_grid, cv=3, verbose=2, n_jobs=-1)\n",
    "grid_clf.fit(X_train, y_train)\n",
    "grid_clf.best_params_"
   ]
  },
  {
   "cell_type": "code",
   "execution_count": 51,
   "metadata": {},
   "outputs": [
    {
     "data": {
      "text/plain": [
       "0.96"
      ]
     },
     "execution_count": 51,
     "metadata": {},
     "output_type": "execute_result"
    }
   ],
   "source": [
    "grid_clf.score(X_test, y_test)"
   ]
  },
  {
   "cell_type": "code",
   "execution_count": null,
   "metadata": {},
   "outputs": [],
   "source": []
  }
 ],
 "metadata": {
  "kernelspec": {
   "display_name": "base",
   "language": "python",
   "name": "python3"
  },
  "language_info": {
   "codemirror_mode": {
    "name": "ipython",
    "version": 3
   },
   "file_extension": ".py",
   "mimetype": "text/x-python",
   "name": "python",
   "nbconvert_exporter": "python",
   "pygments_lexer": "ipython3",
   "version": "3.11.5"
  }
 },
 "nbformat": 4,
 "nbformat_minor": 2
}
