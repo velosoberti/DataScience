{
 "cells": [
  {
   "cell_type": "markdown",
   "metadata": {},
   "source": [
    "#### Para compreendermos melhor as ideias básicas do ML(Aprendizado de Máquina) vamos contar um pouco sobre sua aplicabilidade e métodos\n",
    "\n",
    "##### Temos dois tipos de Aprendizado de Máquina:\n",
    "\n",
    "- Aprendizado supervisionado, onde **temos um rótulo ou target** que passamos ao modelo para servir de previsão\n",
    "\n",
    "- Aprendizado não supervisionado, **onde não há dados de rótulo ou target**\n",
    "\n",
    "#### Alguns obstáculos comuns em Aprendizado de Máquina\n",
    "\n",
    "- Overfitting -> corrigido dando-se pesos (regularizações, ou alterando-se hiperparâmetros para mais simples), penalizando o modelo ou tratando outliers (possíveis causadores) - Simplifique o modelo\n",
    "\n",
    "- Underfitting -> Escolha outro modelo ou acrescente mais hiperparâmetros ao atual\n",
    "\n",
    "- Amostra treino com baixa representabilidade -> certifique-se que sua amostragem é representativa da população (pode-se usar testes estatísticos e até métodos de amostragem estratificada para variáveis categóricas ou ordinais)\n",
    "\n",
    "- Ruídos, NaN ou outliers -> todos podem impactar negativamento o algoritmo\n",
    "\n",
    "- Escalas diferentes e distribuições não Gaussinas em alguns modelos -> alguns modelos como o Linear Regression, se beneficiam de escalas entre features e target iguais e distribuições normais dos dados\n",
    "\n",
    "- Seleção de Features </br>\n",
    "  \n",
    "  </br>\n",
    "\n",
    "|Problema|Possível Solução|\n",
    "|:--:|:--:|\n",
    "|Overfitting|Penalização, Cross-valid, Trade-off Viés Variãncia|\n",
    "|Underfitting|Aumentar Complexidade, Escolher outro Algoritmo|\n",
    "|Amostra de Baixa Representatividade|Amostra Estratificada, mais dados|\n",
    "|Ruídos| Pre-processing|\n",
    "|Escalas e Distribuições não normais (para alguns modelos)|Métodos de Escalonamento e Centralização|\n",
    "|Features sem importância|Seleção de Features e Redução de Dimensionalidade|\n",
    "\n",
    "***Uma rápida explicação: modelos com features ruins ou com uma grande variadade tendem a performar mal ou causar overfitting, para selecionar boas features temos algumas opções. Não só conhecimento de negócio pode ser considerada como podemos aplicar testes t e f entre a feature com a variável resposta (target), caso as diferenças médias sejam significativas, temos uma boa feature. Também vale a pena, *para modelos lineares*, ter features com boas correlações. Outras formas são usando algoritmos como PCA para redução de dimensionalidade como veremos mais ao final do projeto***"
   ]
  },
  {
   "cell_type": "markdown",
   "metadata": {},
   "source": [
    "# Train Test Split\n",
    " O primeiro passo, antes de qualquer aplicação, será dividir seus dados em dados de treino e teste afim de poder verificar a capacidade de generalização dos seus dados, visto que modelos comumente são importantes para prever resultados futuros, ou seja, é necessário ser um bom generalizador"
   ]
  },
  {
   "cell_type": "code",
   "execution_count": 6,
   "metadata": {},
   "outputs": [],
   "source": [
    "#O primeiro passo é sempre seccionar seus dados em dados de treinamento e teste\n",
    "\n",
    "#podemos fazer isso com train_test_split do sklearn ou StratifiedShuffleSplit\n",
    "\n",
    "import numpy as np\n",
    "from sklearn.model_selection import train_test_split\n",
    "X, y = np.arange(10).reshape((5, 2)), range(5)\n",
    "\n",
    "X_train, X_test, y_train, y_test = train_test_split(\n",
    "    X, y, test_size=0.33, random_state=42) #aqui criamos algumas matrizes X e vetores Y onde 33% dos dados originais serão treino e o restante teste\n",
    "\n",
    "#Pela facilidade, o train_test_split pode ser preferível, porém é mais aplicado quando a quantidade de dados (instâncias) for grande o suficiente para não ter viés\n",
    "# de amostragem e acabar treinando um modelo com dados não representativos \n"
   ]
  },
  {
   "cell_type": "code",
   "execution_count": 7,
   "metadata": {},
   "outputs": [],
   "source": [
    "#Quando temos alguma variável importante e/ou precisamos ter certeza de que os dados seguem uma distribuição proporcional de variáveis usando o método de amostragem\n",
    "# estratificada\n",
    "import numpy as np\n",
    "import pandas as pd\n",
    "from sklearn.model_selection import StratifiedShuffleSplit\n",
    "\n",
    "data = {\n",
    "    'feature1': [1, 2, 3, 4, 5, 6, 7, 8, 9, 10],\n",
    "    'feature2': [11, 12, 13, 14, 15, 16, 17, 18, 19, 20],\n",
    "    'target': [0, 1, 0, 1, 0, 1, 0, 1, 0, 1]\n",
    "}\n",
    "df = pd.DataFrame(data)\n",
    "X = df.drop('target', axis=1)\n",
    "y = df['target']\n",
    "\n",
    "split = StratifiedShuffleSplit(n_splits=1, test_size=0.2, random_state=42)\n",
    "\n",
    "for train_index, test_index in split.split(X, y):\n",
    "    X_train, X_test = X.iloc[train_index], X.iloc[test_index]\n",
    "    y_train, y_test = y.iloc[train_index], y.iloc[test_index]\n",
    "\n",
    "# Combinar as features e o target para obter os DataFrames finais de treino e teste\n",
    "train_set = pd.concat([X_train, y_train], axis=1)\n",
    "test_set = pd.concat([X_test, y_test], axis=1)"
   ]
  },
  {
   "cell_type": "markdown",
   "metadata": {},
   "source": [
    "# Imput Missing Values - Univariate and Bivariated\n",
    "\n",
    "Dados do mundo real constantemente apresentam NaN, missing values ou até dados errados como alturas negativas</br>\n",
    "Esses dados podem causar performances ruins ou abaixo de algoritmos, portanto é necessário preenchê-los</br>\n",
    "\n",
    "**O Sklearn nos auxilia com o SimpleImputer ou KNNImputer**\n",
    "\n",
    "O primeiro é um processo Univariado com SimpleImputer, onde o hiperparâmetro missing_values pode ser np.nan (default), algum valor específico ou np.inf e o hiperparâmetro strategy que pode ser mean (default), median, most_frequent e constant (nesse caso é preciso definir o valor no hiperparâmetro fill_value)</br>\n",
    "\n",
    "```python\n",
    "class sklearn.impute.SimpleImputer(\n",
    "    *, missing_values=nan, strategy='mean', \n",
    "    fill_value=None, copy=True, add_indicator=False, \n",
    "    keep_empty_features=False\n",
    "    )\n",
    "```\n",
    "\n",
    "Outro método, KNNImputer, já inputa valores conforme seus vizinhos próximos</br>\n",
    "O importante nesse caso é escolher uma boa n_neighbors e qual distância usar. Caso a distribuição de seus dados não possuem muitos outliers ou é uma distribuição homogênca, é comum usar valores maiores de n_neighbors. Já o contrário, é indicado valores menores para que os outliers não interfiram tanto. Agora, a distância é definida para euclidiana quando os dados são contínuos sua aplicabilidade é melhor e é menos robusta a outliers. Já a distância de manhattan é útil quando os dados possuem mais outliers e também é melhor aplicável quando dados são discretos e/ou séries temporais\n",
    "\n",
    "```python\n",
    "\n",
    "from sklearn.impute import SimpleImputer\n",
    "KNNImputer(\n",
    "    *, missing_values=nan, n_neighbors=5, weights='uniform',\n",
    "     metric='nan_euclidean', copy=True, add_indicator=False, \n",
    "     keep_empty_features=False\n",
    "    )\n",
    "\n",
    "```"
   ]
  },
  {
   "cell_type": "code",
   "execution_count": 8,
   "metadata": {},
   "outputs": [
    {
     "data": {
      "text/plain": [
       "array([[ 7. ,  2. ,  3. ],\n",
       "       [ 4. ,  3.5,  6. ],\n",
       "       [10. ,  5. ,  9. ]])"
      ]
     },
     "execution_count": 8,
     "metadata": {},
     "output_type": "execute_result"
    }
   ],
   "source": [
    "from sklearn.impute import SimpleImputer\n",
    "data = {\n",
    "    'feature1': [7, 4, 10],\n",
    "    'feature2': [2, np.nan, 5],\n",
    "    'feature3': [3, 6, 9]\n",
    "}\n",
    "df = pd.DataFrame(data)\n",
    "\n",
    "\n",
    "imp_mean = SimpleImputer(missing_values=np.nan, strategy='mean') #strategy pode ser mean, median, most_frequent e constant (mas nesse caso chamamos o hiperparametro \n",
    "#fill_value = )\n",
    "\n",
    "imp_mean.fit_transform(df) #faz o fit e o transform ao mesmo tempo"
   ]
  },
  {
   "cell_type": "code",
   "execution_count": 9,
   "metadata": {},
   "outputs": [
    {
     "data": {
      "text/plain": [
       "array([[ 7.,  2.,  3.],\n",
       "       [ 4.,  3.,  6.],\n",
       "       [10.,  5.,  9.],\n",
       "       [ 7.,  4.,  8.]])"
      ]
     },
     "execution_count": 9,
     "metadata": {},
     "output_type": "execute_result"
    }
   ],
   "source": [
    "from sklearn.impute import KNNImputer\n",
    "\n",
    "data = {\n",
    "    'feature1': [7, 4, 10, np.nan],\n",
    "    'feature2': [2, np.nan, 5, 4],\n",
    "    'feature3': [3, 6, 9, 8]\n",
    "}\n",
    "df = pd.DataFrame(data)\n",
    "\n",
    "imputer = KNNImputer(n_neighbors=2)\n",
    "\n",
    "imputer.fit_transform(df)\n",
    "\n",
    "# As implicações do KNNImputer:\n",
    "# Custo computacional\n",
    "# Útil quando as variáveis são correlacionadas\n",
    "\n",
    "#Use GridSearch para usar o melhor valor para n_neighbors visto que esse param altera significativamente o modelo"
   ]
  },
  {
   "cell_type": "markdown",
   "metadata": {},
   "source": [
    "# Manipulando dados Categóricos \n",
    "Modelos de AM não lidam bem com dados em texto ou categóricos, nesses casos, caso a variável tenha implicações importantes, fazemos sua transformação para dados\n",
    "numéricos ou dummy\n",
    "\n",
    "```python\t\n",
    "sklearn.preprocessing.OrdinalEncoder(\n",
    "    *, categories='auto', dtype=<class 'numpy.float64'>, handle_unknown='error', \n",
    "    unknown_value=None, encoded_missing_value=nan,\n",
    "     min_frequency=None, max_categories=None\n",
    "    )\n",
    "```\n",
    "\n",
    "OrdinalEncoder\n",
    "\n",
    "Como Funciona:\n",
    "\n",
    "- O OrdinalEncoder transforma variáveis categóricas em valores numéricos inteiros.\n",
    "\n",
    "- Cada categoria em uma coluna é substituída por um número inteiro.\n",
    "\n",
    "- A ordem dos números inteiros pode ser definida pelo usuário ou determinada automaticamente pela ordem das categorias encontradas nos dados."
   ]
  },
  {
   "cell_type": "code",
   "execution_count": 10,
   "metadata": {},
   "outputs": [
    {
     "data": {
      "text/plain": [
       "[array(['Male', 'Female', 'Binary'], dtype=object)]"
      ]
     },
     "execution_count": 10,
     "metadata": {},
     "output_type": "execute_result"
    }
   ],
   "source": [
    "from sklearn.preprocessing import OrdinalEncoder\n",
    "categories = [['Male','Female','Binary']]\n",
    "enc = OrdinalEncoder(categories=categories) #escolhe a ordem que será os dados encoded das variáveis categóricas\n",
    "data = {\n",
    "    'feature1': [7, 4, 10, 5],\n",
    "    'feature2': [2, 3, 5, 4],\n",
    "    'feature3': ['Male', 'Female', 'Male', 'Binary']\n",
    "}\n",
    "df = pd.DataFrame(data)\n",
    "enc.fit(df[['feature3']])\n",
    "enc.categories_"
   ]
  },
  {
   "cell_type": "code",
   "execution_count": 11,
   "metadata": {},
   "outputs": [
    {
     "data": {
      "text/plain": [
       "array([[0.],\n",
       "       [1.],\n",
       "       [0.],\n",
       "       [2.]])"
      ]
     },
     "execution_count": 11,
     "metadata": {},
     "output_type": "execute_result"
    }
   ],
   "source": [
    "new = enc.fit_transform(df[['feature3']])\n",
    "new"
   ]
  },
  {
   "cell_type": "code",
   "execution_count": 12,
   "metadata": {},
   "outputs": [
    {
     "data": {
      "text/plain": [
       "array([['Male'],\n",
       "       ['Female'],\n",
       "       ['Male'],\n",
       "       ['Binary']], dtype=object)"
      ]
     },
     "execution_count": 12,
     "metadata": {},
     "output_type": "execute_result"
    }
   ],
   "source": [
    "enc.inverse_transform(new)"
   ]
  },
  {
   "cell_type": "markdown",
   "metadata": {},
   "source": [
    "## OneHotEncoder\n",
    "\n",
    "Como Funciona:\n",
    "\n",
    "- O OneHotEncoder transforma variáveis categóricas em uma matriz de valores binários.\n",
    "\n",
    "- Cada categoria é representada por uma coluna separada, onde um valor 1 indica a presença da categoria e 0 indica a ausência.\n",
    "\n",
    "- Isso elimina qualquer implicação de ordem entre as categorias.\n",
    "\n",
    "```python\n",
    "sklearn.preprocessing.OneHotEncoder(\n",
    "    *, categories='auto', drop=None, sparse_output=True, dtype=<class 'numpy.float64'>, \n",
    "    handle_unknown='error', min_frequency=None, max_categories=None, feature_name_combiner='concat\n",
    "    )\n",
    "```"
   ]
  },
  {
   "cell_type": "code",
   "execution_count": 13,
   "metadata": {},
   "outputs": [
    {
     "name": "stdout",
     "output_type": "stream",
     "text": [
      "  feature  feature_high  feature_low  feature_medium\n",
      "0     low           0.0          1.0             0.0\n",
      "1  medium           0.0          0.0             1.0\n",
      "2    high           1.0          0.0             0.0\n",
      "3  medium           0.0          0.0             1.0\n",
      "4     low           0.0          1.0             0.0\n"
     ]
    }
   ],
   "source": [
    "from sklearn.preprocessing import OneHotEncoder\n",
    "\n",
    "\n",
    "data = {\n",
    "    'feature': ['low', 'medium', 'high', 'medium', 'low']\n",
    "}\n",
    "df = pd.DataFrame(data)\n",
    "\n",
    "encoder = OneHotEncoder(sparse_output=False)\n",
    "encoded_data = encoder.fit_transform(df[['feature']])\n",
    "encoded_df = pd.DataFrame(encoded_data, columns=encoder.get_feature_names_out(['feature']))\n",
    "df = df.join(encoded_df)\n",
    "print(df)"
   ]
  },
  {
   "cell_type": "markdown",
   "metadata": {},
   "source": [
    "# Centralização e Escalonamento\n",
    "\n",
    "Muitos algoritmos se beneficiam de dados normalizados e em iguais escalas. Para isso o Sklearn disponibiliza diversas ferramentas para melhor pre-processamento dos dados\n",
    "\n",
    "**Os algoritmos podem ter baixo desempenho caso seus dados não sejam aproximados de uma distribuição Gaussiana: com média zero e desvio de 1**\n",
    "\n",
    "Algoritmos como SVM ou Regularizações L1 e L2 operam melhor ou até esperam que as variáveis estejam próxima de uma média de zero ou com variâncias de ordens iguais.\n",
    "\n",
    "Para isso, antes das transformações, costumamos fazer o escalonamento dos dados usando StandartScale para média 0 e desvio 1 ou até ou MinMaxScaler e MaxAbsScaler, ou RobustScaler (para dados com muitos outliers)\n",
    "\n",
    "\n",
    "\n",
    "- ### StandartScaler:\n",
    "\n",
    "$$\n",
    "z = \\frac{\\text{valor original} - \\text{média dos valores}}{\\text{desvio padrão dos valores}}\n",
    "$$\n",
    "\n",
    "- ### MinMaxScaler:\n",
    "\n",
    "$$\n",
    "x' = \\frac{\\text{valor original} - \\text{valor mínimo}}{\\text{valor máximo} - \\text{valor mínimo}}\n",
    "$$\n",
    "\n",
    "- ### MaxAbsScaler:\n",
    "\n",
    "$$\n",
    "x' = \\frac{\\text{valor original}}{\\text{valor absoluto máximo}}\n",
    "$$\n",
    "\n",
    "- ### RobustScaler:\n",
    "\n",
    "$$\n",
    "x' = \\frac{\\text{valor original} - \\text{mediana}}{\\text{intervalo interquartil (IQR)}}\n",
    "$$\n",
    "\n",
    "\n",
    "- [x] ***Sklearn recomenda, para dados esparsos (ou seja, com diveros 0), usar o MaxAbsScaler ou StandartScale mas passando o hiperparâmetro with_mean=False***\n",
    "\n",
    "**Para retornar seus dados à escala original basta usar o método inverse_transformation()**"
   ]
  },
  {
   "cell_type": "code",
   "execution_count": 14,
   "metadata": {},
   "outputs": [
    {
     "data": {
      "text/html": [
       "<style>#sk-container-id-1 {color: black;}#sk-container-id-1 pre{padding: 0;}#sk-container-id-1 div.sk-toggleable {background-color: white;}#sk-container-id-1 label.sk-toggleable__label {cursor: pointer;display: block;width: 100%;margin-bottom: 0;padding: 0.3em;box-sizing: border-box;text-align: center;}#sk-container-id-1 label.sk-toggleable__label-arrow:before {content: \"▸\";float: left;margin-right: 0.25em;color: #696969;}#sk-container-id-1 label.sk-toggleable__label-arrow:hover:before {color: black;}#sk-container-id-1 div.sk-estimator:hover label.sk-toggleable__label-arrow:before {color: black;}#sk-container-id-1 div.sk-toggleable__content {max-height: 0;max-width: 0;overflow: hidden;text-align: left;background-color: #f0f8ff;}#sk-container-id-1 div.sk-toggleable__content pre {margin: 0.2em;color: black;border-radius: 0.25em;background-color: #f0f8ff;}#sk-container-id-1 input.sk-toggleable__control:checked~div.sk-toggleable__content {max-height: 200px;max-width: 100%;overflow: auto;}#sk-container-id-1 input.sk-toggleable__control:checked~label.sk-toggleable__label-arrow:before {content: \"▾\";}#sk-container-id-1 div.sk-estimator input.sk-toggleable__control:checked~label.sk-toggleable__label {background-color: #d4ebff;}#sk-container-id-1 div.sk-label input.sk-toggleable__control:checked~label.sk-toggleable__label {background-color: #d4ebff;}#sk-container-id-1 input.sk-hidden--visually {border: 0;clip: rect(1px 1px 1px 1px);clip: rect(1px, 1px, 1px, 1px);height: 1px;margin: -1px;overflow: hidden;padding: 0;position: absolute;width: 1px;}#sk-container-id-1 div.sk-estimator {font-family: monospace;background-color: #f0f8ff;border: 1px dotted black;border-radius: 0.25em;box-sizing: border-box;margin-bottom: 0.5em;}#sk-container-id-1 div.sk-estimator:hover {background-color: #d4ebff;}#sk-container-id-1 div.sk-parallel-item::after {content: \"\";width: 100%;border-bottom: 1px solid gray;flex-grow: 1;}#sk-container-id-1 div.sk-label:hover label.sk-toggleable__label {background-color: #d4ebff;}#sk-container-id-1 div.sk-serial::before {content: \"\";position: absolute;border-left: 1px solid gray;box-sizing: border-box;top: 0;bottom: 0;left: 50%;z-index: 0;}#sk-container-id-1 div.sk-serial {display: flex;flex-direction: column;align-items: center;background-color: white;padding-right: 0.2em;padding-left: 0.2em;position: relative;}#sk-container-id-1 div.sk-item {position: relative;z-index: 1;}#sk-container-id-1 div.sk-parallel {display: flex;align-items: stretch;justify-content: center;background-color: white;position: relative;}#sk-container-id-1 div.sk-item::before, #sk-container-id-1 div.sk-parallel-item::before {content: \"\";position: absolute;border-left: 1px solid gray;box-sizing: border-box;top: 0;bottom: 0;left: 50%;z-index: -1;}#sk-container-id-1 div.sk-parallel-item {display: flex;flex-direction: column;z-index: 1;position: relative;background-color: white;}#sk-container-id-1 div.sk-parallel-item:first-child::after {align-self: flex-end;width: 50%;}#sk-container-id-1 div.sk-parallel-item:last-child::after {align-self: flex-start;width: 50%;}#sk-container-id-1 div.sk-parallel-item:only-child::after {width: 0;}#sk-container-id-1 div.sk-dashed-wrapped {border: 1px dashed gray;margin: 0 0.4em 0.5em 0.4em;box-sizing: border-box;padding-bottom: 0.4em;background-color: white;}#sk-container-id-1 div.sk-label label {font-family: monospace;font-weight: bold;display: inline-block;line-height: 1.2em;}#sk-container-id-1 div.sk-label-container {text-align: center;}#sk-container-id-1 div.sk-container {/* jupyter's `normalize.less` sets `[hidden] { display: none; }` but bootstrap.min.css set `[hidden] { display: none !important; }` so we also need the `!important` here to be able to override the default hidden behavior on the sphinx rendered scikit-learn.org. See: https://github.com/scikit-learn/scikit-learn/issues/21755 */display: inline-block !important;position: relative;}#sk-container-id-1 div.sk-text-repr-fallback {display: none;}</style><div id=\"sk-container-id-1\" class=\"sk-top-container\"><div class=\"sk-text-repr-fallback\"><pre>StandardScaler()</pre><b>In a Jupyter environment, please rerun this cell to show the HTML representation or trust the notebook. <br />On GitHub, the HTML representation is unable to render, please try loading this page with nbviewer.org.</b></div><div class=\"sk-container\" hidden><div class=\"sk-item\"><div class=\"sk-estimator sk-toggleable\"><input class=\"sk-toggleable__control sk-hidden--visually\" id=\"sk-estimator-id-1\" type=\"checkbox\" checked><label for=\"sk-estimator-id-1\" class=\"sk-toggleable__label sk-toggleable__label-arrow\">StandardScaler</label><div class=\"sk-toggleable__content\"><pre>StandardScaler()</pre></div></div></div></div></div>"
      ],
      "text/plain": [
       "StandardScaler()"
      ]
     },
     "execution_count": 14,
     "metadata": {},
     "output_type": "execute_result"
    }
   ],
   "source": [
    "from sklearn.preprocessing import StandardScaler\n",
    "x = np.array([[ 1., -1.,  2.],\n",
    "                    [ 2.,  0.,  0.],\n",
    "                    [ 0.,  1., -1.]])\n",
    "scaler = StandardScaler().fit(x) #mais fácil interpretação \n",
    "scaler"
   ]
  },
  {
   "cell_type": "code",
   "execution_count": 15,
   "metadata": {},
   "outputs": [
    {
     "data": {
      "text/plain": [
       "array([[ 0.        , -1.22474487,  1.33630621],\n",
       "       [ 1.22474487,  0.        , -0.26726124],\n",
       "       [-1.22474487,  1.22474487, -1.06904497]])"
      ]
     },
     "execution_count": 15,
     "metadata": {},
     "output_type": "execute_result"
    }
   ],
   "source": [
    "x_scaled = scaler.fit_transform(x)\n",
    "x_scaled"
   ]
  },
  {
   "cell_type": "code",
   "execution_count": 16,
   "metadata": {},
   "outputs": [
    {
     "data": {
      "text/plain": [
       "array([[0.5       , 0.        , 1.        ],\n",
       "       [1.        , 0.5       , 0.33333333],\n",
       "       [0.        , 1.        , 0.        ]])"
      ]
     },
     "execution_count": 16,
     "metadata": {},
     "output_type": "execute_result"
    }
   ],
   "source": [
    "from sklearn.preprocessing import MinMaxScaler, MaxAbsScaler, RobustScaler\n",
    "X_train = np.array([[ 1., -1.,  2.],\n",
    "                    [ 2.,  0.,  0.],\n",
    "                    [ 0.,  1., -1.]])\n",
    "\n",
    "min_max_scaler = MinMaxScaler()\n",
    "X_train_minmax = min_max_scaler.fit_transform(X_train)\n",
    "X_train_minmax"
   ]
  },
  {
   "cell_type": "code",
   "execution_count": 17,
   "metadata": {},
   "outputs": [
    {
     "data": {
      "text/plain": [
       "array([[ 0.5, -1. ,  1. ],\n",
       "       [ 1. ,  0. ,  0. ],\n",
       "       [ 0. ,  1. , -0.5]])"
      ]
     },
     "execution_count": 17,
     "metadata": {},
     "output_type": "execute_result"
    }
   ],
   "source": [
    "max_abs_scaler = MaxAbsScaler() #por para dados esparsos\n",
    "X_train_maxabs = max_abs_scaler.fit_transform(X_train)\n",
    "X_train_maxabs"
   ]
  },
  {
   "cell_type": "code",
   "execution_count": 18,
   "metadata": {},
   "outputs": [
    {
     "data": {
      "text/plain": [
       "array([[ 0.        , -1.        ,  1.33333333],\n",
       "       [ 1.        ,  0.        ,  0.        ],\n",
       "       [-1.        ,  1.        , -0.66666667]])"
      ]
     },
     "execution_count": 18,
     "metadata": {},
     "output_type": "execute_result"
    }
   ],
   "source": [
    "robust = RobustScaler() #melhor para dados repletos de outliers\n",
    "X_train_robustscale = robust.fit_transform(X_train)\n",
    "X_train_robustscale"
   ]
  },
  {
   "cell_type": "markdown",
   "metadata": {},
   "source": [
    "# Pre Processing - Transformation data to Gaussian distribution\n",
    "\n",
    "Após o escalonamento, o próximo passo seria fazer a transformação caso seus dados escalonados não possuam uma distribuição aproximadamente normal (pode-se usar o teste de Shapiro para o teste ou Jarque-Bera). \n",
    "\n",
    "Mas deve estar se perguntando o porque o escalonamento é benéfico antes da transformação sendo que a transformação do Sklearn também diminuí as discrepâncias de variações\n",
    "\n",
    "Bem, escalonar antes de uma transformação aumenta a eficácia de seu modelo de transformação (Quantile ou Power) melhorando a estabilização da variância e minimizando ao máximo a assimetria, principalmente quando se lida com valores muito grandes ou pequenos na transformação.\n",
    "\n",
    "Sklearn oferece dois métodos de transformação, o QuantileTransformer e PowerTransformer\n",
    "\n",
    "- **Quantile Transforms**: Transformam todas as características para uma mesma distribuição desejada, utilizando a função de distribuição cumulativa da característica e a função quantil da distribuição desejada. Esse método suaviza distribuições incomuns e é menos influenciado por valores atípicos, mas pode distorcer correlações e distâncias entre as características.\n",
    "\n",
    "- **Power Transforms**: São transformações paramétricas que visam mapear dados de qualquer distribuição para uma distribuição Gaussiana (normal).\n",
    "\n",
    "**Quantile Transforms**:\n",
    "\n",
    "$$\n",
    "x' = F^{-1}(\\text{rank}(x) / (n + 1))\n",
    "$$\n",
    "\n",
    "onde:\n",
    "- \\( $F^{-1}$ \\) é a função quantílica inversa (ou função de percentil) da distribuição desejada,\n",
    "- \\( $\\text{rank}(x)$ \\) é a posição de \\( $x$ \\) em uma lista ordenada de valores,\n",
    "- \\( $n$ \\) é o número total de observações.\n",
    "\n",
    "\n",
    "\n",
    "\n",
    "**Yeo-Johnson Transformation**: ***Atende a dados com valores 0 e negativos e lida bem com outliers***\n",
    "\n",
    "$$\n",
    "x' = \n",
    "\\begin{cases} \n",
    "\\frac{((x + 1)^\\lambda - 1)}{\\lambda} & \\text{se } \\lambda \\neq 0 \\\\\n",
    "\\ln(x + 1) & \\text{se } \\lambda = 0\n",
    "\\end{cases}\n",
    "$$\n",
    "\n",
    "onde:\n",
    "- \\( $x$ \\) é o valor original,\n",
    "- \\( $\\lambda$ \\) é o parâmetro de transformação.\n",
    "\n",
    "\n",
    "\n",
    "**Box-Cox Transformation**: ***Estrita a dados positivos e com uma matemática mais simples***\n",
    "\n",
    "$$\n",
    "x' = \n",
    "\\begin{cases} \n",
    "\\frac{(x^\\lambda - 1)}{\\lambda} & \\text{se } \\lambda \\neq 0 \\\\\n",
    "\\ln(x) & \\text{se } \\lambda = 0\n",
    "\\end{cases}\n",
    "$$\n",
    "\n",
    "onde:\n",
    "- \\( $x$ \\) é o valor original,\n",
    "- \\( $\\lambda$ \\) é o parâmetro de transformação,\n",
    "- \\( $x$ \\) deve ser positivo."
   ]
  },
  {
   "cell_type": "markdown",
   "metadata": {},
   "source": [
    "### Quantile \n",
    "```python\n",
    "class sklearn.preprocessing.QuantileTransformer(*, n_quantiles=1000, output_distribution='uniform', ignore_implicit_zeros=False, subsample=10000, random_state=None, copy=True)\n",
    "```"
   ]
  },
  {
   "cell_type": "code",
   "execution_count": 19,
   "metadata": {},
   "outputs": [
    {
     "data": {
      "text/plain": [
       "<Axes: ylabel='Count'>"
      ]
     },
     "execution_count": 19,
     "metadata": {},
     "output_type": "execute_result"
    },
    {
     "data": {
      "image/png": "[encoded data removed]",
      "text/plain": [
       "<Figure size 1500x400 with 1 Axes>"
      ]
     },
     "metadata": {},
     "output_type": "display_data"
    }
   ],
   "source": [
    "import seaborn as sns\n",
    "import matplotlib.pyplot as plt\n",
    "from sklearn.preprocessing import QuantileTransformer\n",
    "rng = np.random.RandomState(0)\n",
    "X = np.sort(rng.normal(loc=0.5, scale=0.25, size=(25, 1)), axis=0)\n",
    "qt = QuantileTransformer(n_quantiles=10, random_state=0, output_distribution='normal')\n",
    "X = qt.fit_transform(X)\n",
    "plt.figure(figsize=(15,4))\n",
    "sns.histplot(X, kde=True)"
   ]
  },
  {
   "cell_type": "markdown",
   "metadata": {},
   "source": [
    "### Power Transform\n",
    "```python\n",
    "class sklearn.preprocessing.PowerTransformer(method='yeo-johnson', *, standardize=True, copy=True)\n",
    "```"
   ]
  },
  {
   "cell_type": "code",
   "execution_count": 20,
   "metadata": {},
   "outputs": [
    {
     "data": {
      "text/plain": [
       "<Axes: ylabel='Count'>"
      ]
     },
     "execution_count": 20,
     "metadata": {},
     "output_type": "execute_result"
    },
    {
     "data": {
      "image/png": "[encoded data removed]",
      "text/plain": [
       "<Figure size 1500x400 with 1 Axes>"
      ]
     },
     "metadata": {},
     "output_type": "display_data"
    }
   ],
   "source": [
    "import numpy as np\n",
    "from sklearn.preprocessing import PowerTransformer\n",
    "pt = PowerTransformer(method='yeo-johnson')\n",
    "X = np.sort(rng.normal(loc=0.5, scale=0.25, size=(25, 1)), axis=0)\n",
    "X = pt.fit_transform(X)\n",
    "plt.figure(figsize=(15,4))\n",
    "sns.histplot(X, kde=True)"
   ]
  },
  {
   "cell_type": "code",
   "execution_count": 21,
   "metadata": {},
   "outputs": [
    {
     "data": {
      "text/plain": [
       "<Axes: ylabel='Count'>"
      ]
     },
     "execution_count": 21,
     "metadata": {},
     "output_type": "execute_result"
    },
    {
     "data": {
      "image/png": "[encoded data removed]",
      "text/plain": [
       "<Figure size 1500x400 with 1 Axes>"
      ]
     },
     "metadata": {},
     "output_type": "display_data"
    }
   ],
   "source": [
    "pt2 = PowerTransformer(method='box-cox')\n",
    "X = np.sort(rng.normal(loc=0.5, scale=0.25, size=(25, 1)), axis=0)\n",
    "X = pt2.fit_transform(X)\n",
    "plt.figure(figsize=(15,4))\n",
    "sns.histplot(X, bins='auto', kde=True)"
   ]
  },
  {
   "cell_type": "markdown",
   "metadata": {},
   "source": [
    "# Optimize the Model\n",
    "\n",
    "Após a escolha do algoritmo que melhor se adapta ao seu problema ou que apresenta melhor desempenho, é possível definir e ajustar seus hiperparâmetros para otimizar ainda mais o desempenho do modelo. Isso pode ser feito utilizando as ferramentas GridSearch ou RandomizedSearch do Scikit-Learn.\n",
    "\n",
    "GridSearch\n",
    "O GridSearch é uma técnica que permite testar várias combinações de hiperparâmetros especificados em uma grade de valores predefinidos. Ele busca exaustivamente a melhor combinação de hiperparâmetros, treinando e avaliando o modelo para cada combinação. Isso é feito através de validação cruzada, onde o conjunto de dados é dividido em partes menores para garantir que o modelo seja avaliado de forma justa e imparcial.\n",
    "\n",
    "```python\t\n",
    "class sklearn.model_selection.GridSearchCV(\n",
    "    estimator, param_grid, *, scoring=None, n_jobs=None, refit=True, \n",
    "    cv=None, verbose=0, pre_dispatch='2*n_jobs',\n",
    "     error_score=nan, return_train_score=False\n",
    "     )\n",
    "```\t"
   ]
  },
  {
   "cell_type": "code",
   "execution_count": 22,
   "metadata": {},
   "outputs": [
    {
     "data": {
      "text/html": [
       "<style>#sk-container-id-2 {color: black;}#sk-container-id-2 pre{padding: 0;}#sk-container-id-2 div.sk-toggleable {background-color: white;}#sk-container-id-2 label.sk-toggleable__label {cursor: pointer;display: block;width: 100%;margin-bottom: 0;padding: 0.3em;box-sizing: border-box;text-align: center;}#sk-container-id-2 label.sk-toggleable__label-arrow:before {content: \"▸\";float: left;margin-right: 0.25em;color: #696969;}#sk-container-id-2 label.sk-toggleable__label-arrow:hover:before {color: black;}#sk-container-id-2 div.sk-estimator:hover label.sk-toggleable__label-arrow:before {color: black;}#sk-container-id-2 div.sk-toggleable__content {max-height: 0;max-width: 0;overflow: hidden;text-align: left;background-color: #f0f8ff;}#sk-container-id-2 div.sk-toggleable__content pre {margin: 0.2em;color: black;border-radius: 0.25em;background-color: #f0f8ff;}#sk-container-id-2 input.sk-toggleable__control:checked~div.sk-toggleable__content {max-height: 200px;max-width: 100%;overflow: auto;}#sk-container-id-2 input.sk-toggleable__control:checked~label.sk-toggleable__label-arrow:before {content: \"▾\";}#sk-container-id-2 div.sk-estimator input.sk-toggleable__control:checked~label.sk-toggleable__label {background-color: #d4ebff;}#sk-container-id-2 div.sk-label input.sk-toggleable__control:checked~label.sk-toggleable__label {background-color: #d4ebff;}#sk-container-id-2 input.sk-hidden--visually {border: 0;clip: rect(1px 1px 1px 1px);clip: rect(1px, 1px, 1px, 1px);height: 1px;margin: -1px;overflow: hidden;padding: 0;position: absolute;width: 1px;}#sk-container-id-2 div.sk-estimator {font-family: monospace;background-color: #f0f8ff;border: 1px dotted black;border-radius: 0.25em;box-sizing: border-box;margin-bottom: 0.5em;}#sk-container-id-2 div.sk-estimator:hover {background-color: #d4ebff;}#sk-container-id-2 div.sk-parallel-item::after {content: \"\";width: 100%;border-bottom: 1px solid gray;flex-grow: 1;}#sk-container-id-2 div.sk-label:hover label.sk-toggleable__label {background-color: #d4ebff;}#sk-container-id-2 div.sk-serial::before {content: \"\";position: absolute;border-left: 1px solid gray;box-sizing: border-box;top: 0;bottom: 0;left: 50%;z-index: 0;}#sk-container-id-2 div.sk-serial {display: flex;flex-direction: column;align-items: center;background-color: white;padding-right: 0.2em;padding-left: 0.2em;position: relative;}#sk-container-id-2 div.sk-item {position: relative;z-index: 1;}#sk-container-id-2 div.sk-parallel {display: flex;align-items: stretch;justify-content: center;background-color: white;position: relative;}#sk-container-id-2 div.sk-item::before, #sk-container-id-2 div.sk-parallel-item::before {content: \"\";position: absolute;border-left: 1px solid gray;box-sizing: border-box;top: 0;bottom: 0;left: 50%;z-index: -1;}#sk-container-id-2 div.sk-parallel-item {display: flex;flex-direction: column;z-index: 1;position: relative;background-color: white;}#sk-container-id-2 div.sk-parallel-item:first-child::after {align-self: flex-end;width: 50%;}#sk-container-id-2 div.sk-parallel-item:last-child::after {align-self: flex-start;width: 50%;}#sk-container-id-2 div.sk-parallel-item:only-child::after {width: 0;}#sk-container-id-2 div.sk-dashed-wrapped {border: 1px dashed gray;margin: 0 0.4em 0.5em 0.4em;box-sizing: border-box;padding-bottom: 0.4em;background-color: white;}#sk-container-id-2 div.sk-label label {font-family: monospace;font-weight: bold;display: inline-block;line-height: 1.2em;}#sk-container-id-2 div.sk-label-container {text-align: center;}#sk-container-id-2 div.sk-container {/* jupyter's `normalize.less` sets `[hidden] { display: none; }` but bootstrap.min.css set `[hidden] { display: none !important; }` so we also need the `!important` here to be able to override the default hidden behavior on the sphinx rendered scikit-learn.org. See: https://github.com/scikit-learn/scikit-learn/issues/21755 */display: inline-block !important;position: relative;}#sk-container-id-2 div.sk-text-repr-fallback {display: none;}</style><div id=\"sk-container-id-2\" class=\"sk-top-container\"><div class=\"sk-text-repr-fallback\"><pre>GridSearchCV(cv=5, estimator=SVC(),\n",
       "             param_grid={&#x27;C&#x27;: [1, 10], &#x27;kernel&#x27;: (&#x27;linear&#x27;, &#x27;rbf&#x27;)},\n",
       "             return_train_score=True)</pre><b>In a Jupyter environment, please rerun this cell to show the HTML representation or trust the notebook. <br />On GitHub, the HTML representation is unable to render, please try loading this page with nbviewer.org.</b></div><div class=\"sk-container\" hidden><div class=\"sk-item sk-dashed-wrapped\"><div class=\"sk-label-container\"><div class=\"sk-label sk-toggleable\"><input class=\"sk-toggleable__control sk-hidden--visually\" id=\"sk-estimator-id-2\" type=\"checkbox\" ><label for=\"sk-estimator-id-2\" class=\"sk-toggleable__label sk-toggleable__label-arrow\">GridSearchCV</label><div class=\"sk-toggleable__content\"><pre>GridSearchCV(cv=5, estimator=SVC(),\n",
       "             param_grid={&#x27;C&#x27;: [1, 10], &#x27;kernel&#x27;: (&#x27;linear&#x27;, &#x27;rbf&#x27;)},\n",
       "             return_train_score=True)</pre></div></div></div><div class=\"sk-parallel\"><div class=\"sk-parallel-item\"><div class=\"sk-item\"><div class=\"sk-label-container\"><div class=\"sk-label sk-toggleable\"><input class=\"sk-toggleable__control sk-hidden--visually\" id=\"sk-estimator-id-3\" type=\"checkbox\" ><label for=\"sk-estimator-id-3\" class=\"sk-toggleable__label sk-toggleable__label-arrow\">estimator: SVC</label><div class=\"sk-toggleable__content\"><pre>SVC()</pre></div></div></div><div class=\"sk-serial\"><div class=\"sk-item\"><div class=\"sk-estimator sk-toggleable\"><input class=\"sk-toggleable__control sk-hidden--visually\" id=\"sk-estimator-id-4\" type=\"checkbox\" ><label for=\"sk-estimator-id-4\" class=\"sk-toggleable__label sk-toggleable__label-arrow\">SVC</label><div class=\"sk-toggleable__content\"><pre>SVC()</pre></div></div></div></div></div></div></div></div></div></div>"
      ],
      "text/plain": [
       "GridSearchCV(cv=5, estimator=SVC(),\n",
       "             param_grid={'C': [1, 10], 'kernel': ('linear', 'rbf')},\n",
       "             return_train_score=True)"
      ]
     },
     "execution_count": 22,
     "metadata": {},
     "output_type": "execute_result"
    }
   ],
   "source": [
    "from sklearn import svm, datasets\n",
    "from sklearn.model_selection import GridSearchCV\n",
    "iris = datasets.load_iris()\n",
    "parameters = {'kernel':('linear', 'rbf'), 'C':[1, 10]} #aqui depende do seu algoritmo usado\n",
    "svc = svm.SVC()\n",
    "clf = GridSearchCV(svc, parameters, cv=5, return_train_score=True) #outro hiperparm importante é scoring='neg_mean_squared_error' para regressões e return_train_score=True para poder montar\n",
    "# um df de resultados\n",
    "clf.fit(iris.data, iris.target)"
   ]
  },
  {
   "cell_type": "code",
   "execution_count": 23,
   "metadata": {},
   "outputs": [
    {
     "data": {
      "text/html": [
       "<style>#sk-container-id-3 {color: black;}#sk-container-id-3 pre{padding: 0;}#sk-container-id-3 div.sk-toggleable {background-color: white;}#sk-container-id-3 label.sk-toggleable__label {cursor: pointer;display: block;width: 100%;margin-bottom: 0;padding: 0.3em;box-sizing: border-box;text-align: center;}#sk-container-id-3 label.sk-toggleable__label-arrow:before {content: \"▸\";float: left;margin-right: 0.25em;color: #696969;}#sk-container-id-3 label.sk-toggleable__label-arrow:hover:before {color: black;}#sk-container-id-3 div.sk-estimator:hover label.sk-toggleable__label-arrow:before {color: black;}#sk-container-id-3 div.sk-toggleable__content {max-height: 0;max-width: 0;overflow: hidden;text-align: left;background-color: #f0f8ff;}#sk-container-id-3 div.sk-toggleable__content pre {margin: 0.2em;color: black;border-radius: 0.25em;background-color: #f0f8ff;}#sk-container-id-3 input.sk-toggleable__control:checked~div.sk-toggleable__content {max-height: 200px;max-width: 100%;overflow: auto;}#sk-container-id-3 input.sk-toggleable__control:checked~label.sk-toggleable__label-arrow:before {content: \"▾\";}#sk-container-id-3 div.sk-estimator input.sk-toggleable__control:checked~label.sk-toggleable__label {background-color: #d4ebff;}#sk-container-id-3 div.sk-label input.sk-toggleable__control:checked~label.sk-toggleable__label {background-color: #d4ebff;}#sk-container-id-3 input.sk-hidden--visually {border: 0;clip: rect(1px 1px 1px 1px);clip: rect(1px, 1px, 1px, 1px);height: 1px;margin: -1px;overflow: hidden;padding: 0;position: absolute;width: 1px;}#sk-container-id-3 div.sk-estimator {font-family: monospace;background-color: #f0f8ff;border: 1px dotted black;border-radius: 0.25em;box-sizing: border-box;margin-bottom: 0.5em;}#sk-container-id-3 div.sk-estimator:hover {background-color: #d4ebff;}#sk-container-id-3 div.sk-parallel-item::after {content: \"\";width: 100%;border-bottom: 1px solid gray;flex-grow: 1;}#sk-container-id-3 div.sk-label:hover label.sk-toggleable__label {background-color: #d4ebff;}#sk-container-id-3 div.sk-serial::before {content: \"\";position: absolute;border-left: 1px solid gray;box-sizing: border-box;top: 0;bottom: 0;left: 50%;z-index: 0;}#sk-container-id-3 div.sk-serial {display: flex;flex-direction: column;align-items: center;background-color: white;padding-right: 0.2em;padding-left: 0.2em;position: relative;}#sk-container-id-3 div.sk-item {position: relative;z-index: 1;}#sk-container-id-3 div.sk-parallel {display: flex;align-items: stretch;justify-content: center;background-color: white;position: relative;}#sk-container-id-3 div.sk-item::before, #sk-container-id-3 div.sk-parallel-item::before {content: \"\";position: absolute;border-left: 1px solid gray;box-sizing: border-box;top: 0;bottom: 0;left: 50%;z-index: -1;}#sk-container-id-3 div.sk-parallel-item {display: flex;flex-direction: column;z-index: 1;position: relative;background-color: white;}#sk-container-id-3 div.sk-parallel-item:first-child::after {align-self: flex-end;width: 50%;}#sk-container-id-3 div.sk-parallel-item:last-child::after {align-self: flex-start;width: 50%;}#sk-container-id-3 div.sk-parallel-item:only-child::after {width: 0;}#sk-container-id-3 div.sk-dashed-wrapped {border: 1px dashed gray;margin: 0 0.4em 0.5em 0.4em;box-sizing: border-box;padding-bottom: 0.4em;background-color: white;}#sk-container-id-3 div.sk-label label {font-family: monospace;font-weight: bold;display: inline-block;line-height: 1.2em;}#sk-container-id-3 div.sk-label-container {text-align: center;}#sk-container-id-3 div.sk-container {/* jupyter's `normalize.less` sets `[hidden] { display: none; }` but bootstrap.min.css set `[hidden] { display: none !important; }` so we also need the `!important` here to be able to override the default hidden behavior on the sphinx rendered scikit-learn.org. See: https://github.com/scikit-learn/scikit-learn/issues/21755 */display: inline-block !important;position: relative;}#sk-container-id-3 div.sk-text-repr-fallback {display: none;}</style><div id=\"sk-container-id-3\" class=\"sk-top-container\"><div class=\"sk-text-repr-fallback\"><pre>SVC(C=1, kernel=&#x27;linear&#x27;)</pre><b>In a Jupyter environment, please rerun this cell to show the HTML representation or trust the notebook. <br />On GitHub, the HTML representation is unable to render, please try loading this page with nbviewer.org.</b></div><div class=\"sk-container\" hidden><div class=\"sk-item\"><div class=\"sk-estimator sk-toggleable\"><input class=\"sk-toggleable__control sk-hidden--visually\" id=\"sk-estimator-id-5\" type=\"checkbox\" checked><label for=\"sk-estimator-id-5\" class=\"sk-toggleable__label sk-toggleable__label-arrow\">SVC</label><div class=\"sk-toggleable__content\"><pre>SVC(C=1, kernel=&#x27;linear&#x27;)</pre></div></div></div></div></div>"
      ],
      "text/plain": [
       "SVC(C=1, kernel='linear')"
      ]
     },
     "execution_count": 23,
     "metadata": {},
     "output_type": "execute_result"
    }
   ],
   "source": [
    "clf.best_estimator_"
   ]
  },
  {
   "cell_type": "code",
   "execution_count": 24,
   "metadata": {},
   "outputs": [
    {
     "data": {
      "text/plain": [
       "Index(['mean_fit_time', 'std_fit_time', 'mean_score_time', 'std_score_time',\n",
       "       'param_C', 'param_kernel', 'params', 'split0_test_score',\n",
       "       'split1_test_score', 'split2_test_score', 'split3_test_score',\n",
       "       'split4_test_score', 'mean_test_score', 'std_test_score',\n",
       "       'rank_test_score', 'split0_train_score', 'split1_train_score',\n",
       "       'split2_train_score', 'split3_train_score', 'split4_train_score',\n",
       "       'mean_train_score', 'std_train_score'],\n",
       "      dtype='object')"
      ]
     },
     "execution_count": 24,
     "metadata": {},
     "output_type": "execute_result"
    }
   ],
   "source": [
    "pd.DataFrame(clf.cv_results_).columns"
   ]
  }
 ],
 "metadata": {
  "kernelspec": {
   "display_name": "base",
   "language": "python",
   "name": "python3"
  },
  "language_info": {
   "codemirror_mode": {
    "name": "ipython",
    "version": 3
   },
   "file_extension": ".py",
   "mimetype": "text/x-python",
   "name": "python",
   "nbconvert_exporter": "python",
   "pygments_lexer": "ipython3",
   "version": "3.11.5"
  }
 },
 "nbformat": 4,
 "nbformat_minor": 2
}
